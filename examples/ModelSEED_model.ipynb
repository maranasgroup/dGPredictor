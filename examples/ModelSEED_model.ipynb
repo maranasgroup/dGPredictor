{
 "cells": [
  {
   "cell_type": "code",
   "execution_count": 1,
   "id": "3fb8cc7d-03f1-4176-ac1c-f583f106aa91",
   "metadata": {},
   "outputs": [
    {
     "name": "stdout",
     "output_type": "stream",
     "text": [
      "cobrakbase 0.3.1\n"
     ]
    }
   ],
   "source": [
    "# import kbase\n",
    "import os\n",
    "local_cobrakbase_path = os.path.join('C:', 'Users', 'Andrew Freiburger','Documents','Argonne','cobrakbase')\n",
    "os.environ[\"HOME\"] = local_cobrakbase_path\n",
    "import cobrakbase\n",
    "with open(\"C:/Users/Andrew Freiburger/Documents/Argonne/kbase_token.txt\") as token_file:\n",
    "    kbase = cobrakbase.KBaseAPI(token_file.readline())\n",
    "AP49 = kbase.get_from_ws(\"Sphingobium_AP49_pacbio_v2.RAST.fbamodel\", 114731)"
   ]
  },
  {
   "cell_type": "code",
   "execution_count": 2,
   "id": "6dd07401-766a-4756-989d-6265cf1f8d46",
   "metadata": {},
   "outputs": [
    {
     "name": "stdout",
     "output_type": "stream",
     "text": [
      "['OBJECT_TYPE', 'SBML_FIELD_ATTRIBUTES', 'SBML_FIELD_GAPFILLINGS', 'SBML_FIELD_GAPGENS', 'SBML_FIELD_GENOME_REFS', 'SBML_FIELD_MODEL_TYPE', 'SBML_FIELD_SOURCE', 'SBML_FIELD_SOURCE_ID', 'SBML_FIELD_TEMPLATE_REFS', '__VERSION__', '__class__', '__delattr__', '__dict__', '__dir__', '__doc__', '__enter__', '__eq__', '__exit__', '__format__', '__ge__', '__getattribute__', '__getstate__', '__gt__', '__hash__', '__init__', '__init_subclass__', '__le__', '__lt__', '__module__', '__ne__', '__new__', '__reduce__', '__reduce_ex__', '__repr__', '__setattr__', '__setstate__', '__sizeof__', '__str__', '__subclasshook__', '__weakref__', '_annotation', '_compartments', '_contexts', '_from_json', '_get_computed_attributes', '_get_gapfillings', '_get_gapgens', '_get_genome_ref', '_get_source', '_get_source_id', '_get_template_ref', '_get_type', '_id', '_model_compartments', '_populate_solver', '_repr_html_', '_set_computed_attributes', '_set_gapfillings', '_set_gapgens', '_set_genome_ref', '_set_id_with_model', '_set_source', '_set_source_id', '_set_template_ref', '_set_type', '_solver', '_to_json', '_to_object', '_tolerance', 'add_boundary', 'add_cons_vars', 'add_groups', 'add_metabolites', 'add_reactions', 'annotation', 'attributes', 'boundary', 'compartments', 'computed_attributes', 'constraints', 'contig_coverages', 'copied', 'copy', 'copy_source_inaccessible', 'created', 'creator', 'data', 'data_keys', 'delete_biomasses', 'deleted_reactions', 'demands', 'epoch', 'exchanges', 'exclude_dict', 'from_kbase_json', 'future__init__', 'gapfilledcandidates', 'gapfillings', 'gapgens', 'genes', 'genome_ref', 'get_associated_groups', 'get_data', 'get_exchange_by_metabolite_id', 'get_kbase_args', 'groups', 'id', 'info', 'loops', 'medium', 'merge', 'metabolites', 'model_edits', 'model_type', 'name', 'notes', 'objective', 'objective_direction', 'optimize', 'orig_wsid', 'other_genome_refs', 'path', 'problem', 'provenance', 'quantopts', 'reactions', 'refs', 'remove_cons_vars', 'remove_groups', 'remove_metabolites', 'remove_reactions', 'repair', 'sinks', 'slim_optimize', 'solver', 'source', 'source_id', 'summary', 'template_ref', 'template_refs', 'tolerance', 'type', 'variables']\n"
     ]
    }
   ],
   "source": [
    "print(dir(AP49))"
   ]
  },
  {
   "cell_type": "code",
   "execution_count": 4,
   "id": "a73999d1-d72e-42ef-9ba9-7891590c5fe5",
   "metadata": {},
   "outputs": [
    {
     "name": "stdout",
     "output_type": "stream",
     "text": [
      "{}\n"
     ]
    }
   ],
   "source": [
    "print(AP49.annotation)"
   ]
  },
  {
   "cell_type": "code",
   "execution_count": 13,
   "id": "0a6c2f0c-d9b9-4e29-923e-6f86f34d1081",
   "metadata": {},
   "outputs": [],
   "source": [
    "from modelseedpy.biochem import from_local\n",
    "\n",
    "msdb = from_local(\"C:\\\\Users\\\\Andrew Freiburger\\\\Documents\\\\Argonne\\\\ModelSEED\\\\ModelSEEDDatabase\")"
   ]
  },
  {
   "cell_type": "code",
   "execution_count": 22,
   "id": "f749c98f-1827-4d1a-9eaf-821ac1e15f79",
   "metadata": {},
   "outputs": [
    {
     "name": "stdout",
     "output_type": "stream",
     "text": [
      "cpd00067_e0 + cpd00106_e0 --> cpd00067_c0 + cpd00106_c0\n",
      "{'sbo': 'SBO:0000176', 'seed.reaction': 'rxn05561'}\n",
      "['__add__', '__class__', '__copy__', '__deepcopy__', '__delattr__', '__dict__', '__dir__', '__doc__', '__eq__', '__format__', '__ge__', '__getattribute__', '__getstate__', '__gt__', '__hash__', '__iadd__', '__imul__', '__init__', '__init_subclass__', '__isub__', '__le__', '__lt__', '__module__', '__mul__', '__ne__', '__new__', '__radd__', '__reduce__', '__reduce_ex__', '__repr__', '__setattr__', '__setstate__', '__sizeof__', '__str__', '__sub__', '__subclasshook__', '__weakref__', '_annotation', '_associate_gene', '_check_bounds', '_dissociate_gene', '_genes', '_get_rev_and_max_min_flux', '_gpr', '_id', '_lower_bound', '_metabolites', '_model', '_repr_html_', '_set_id_with_model', '_to_json', '_update_awareness', '_upper_bound', 'add_metabolites', 'aliases', 'annotation', 'boundary', 'bounds', 'build_reaction_from_string', 'build_reaction_string', 'check_mass_balance', 'compartment', 'compartments', 'copy', 'coverage', 'dblinks', 'delete', 'edits', 'flux', 'flux_expression', 'forward_variable', 'from_cobra_reaction', 'from_json', 'functional', 'gapfill_data', 'gene_count', 'gene_name_reaction_rule', 'gene_reaction_rule', 'genes', 'get_coefficient', 'get_coefficients', 'get_compartments', 'gpr', 'id', 'imported_gpr', 'knock_out', 'lower_bound', 'metabolites', 'model', 'modelReactionProteins', 'model_reaction_proteins', 'modelcompartment_ref', 'name', 'notes', 'numerical_attributes', 'objective_coefficient', 'probability', 'products', 'protons', 'reactants', 'reaction', 'reaction_ref', 'reduced_cost', 'remove_from_model', 'reverse_id', 'reverse_variable', 'reversibility', 'string_attributes', 'subsystem', 'subtract_metabolites', 'summary', 'update_genes_from_gpr', 'update_variable_bounds', 'upper_bound', 'x', 'y']\n",
      "[H+]\n",
      "cpd00067_e0 + cpd00106_e0 --> cpd00067_c0 + cpd00106_c0\n",
      "cpd00002_c0 + cpd00032_c0 --> cpd00008_c0 + cpd00011_c0 + cpd00061_c0\n",
      "{'sbo': 'SBO:0000176', 'seed.reaction': 'rxn00247'}\n",
      "['__add__', '__class__', '__copy__', '__deepcopy__', '__delattr__', '__dict__', '__dir__', '__doc__', '__eq__', '__format__', '__ge__', '__getattribute__', '__getstate__', '__gt__', '__hash__', '__iadd__', '__imul__', '__init__', '__init_subclass__', '__isub__', '__le__', '__lt__', '__module__', '__mul__', '__ne__', '__new__', '__radd__', '__reduce__', '__reduce_ex__', '__repr__', '__setattr__', '__setstate__', '__sizeof__', '__str__', '__sub__', '__subclasshook__', '__weakref__', '_annotation', '_associate_gene', '_check_bounds', '_dissociate_gene', '_genes', '_get_rev_and_max_min_flux', '_gpr', '_id', '_lower_bound', '_metabolites', '_model', '_repr_html_', '_set_id_with_model', '_to_json', '_update_awareness', '_upper_bound', 'add_metabolites', 'aliases', 'annotation', 'boundary', 'bounds', 'build_reaction_from_string', 'build_reaction_string', 'check_mass_balance', 'compartment', 'compartments', 'copy', 'coverage', 'dblinks', 'delete', 'edits', 'flux', 'flux_expression', 'forward_variable', 'from_cobra_reaction', 'from_json', 'functional', 'gapfill_data', 'gene_count', 'gene_name_reaction_rule', 'gene_reaction_rule', 'genes', 'get_coefficient', 'get_coefficients', 'get_compartments', 'gpr', 'id', 'imported_gpr', 'knock_out', 'lower_bound', 'metabolites', 'model', 'modelReactionProteins', 'model_reaction_proteins', 'modelcompartment_ref', 'name', 'notes', 'numerical_attributes', 'objective_coefficient', 'probability', 'products', 'protons', 'reactants', 'reaction', 'reaction_ref', 'reduced_cost', 'remove_from_model', 'reverse_id', 'reverse_variable', 'reversibility', 'string_attributes', 'subsystem', 'subtract_metabolites', 'summary', 'update_genes_from_gpr', 'update_variable_bounds', 'upper_bound', 'x', 'y']\n",
      "Nc1ncnc2c1ncn2C1OC(COP(=O)([O-])OP(=O)(O)OP(=O)([O-])[O-])C(O)C1O\n",
      "cpd00002_c0 + cpd00032_c0 --> cpd00008_c0 + cpd00011_c0 + cpd00061_c0\n",
      "cpd00067_e0 + cpd00075_e0 <=> cpd00067_c0 + cpd00075_c0\n",
      "{'sbo': 'SBO:0000176', 'seed.reaction': 'rxn05625'}\n",
      "['__add__', '__class__', '__copy__', '__deepcopy__', '__delattr__', '__dict__', '__dir__', '__doc__', '__eq__', '__format__', '__ge__', '__getattribute__', '__getstate__', '__gt__', '__hash__', '__iadd__', '__imul__', '__init__', '__init_subclass__', '__isub__', '__le__', '__lt__', '__module__', '__mul__', '__ne__', '__new__', '__radd__', '__reduce__', '__reduce_ex__', '__repr__', '__setattr__', '__setstate__', '__sizeof__', '__str__', '__sub__', '__subclasshook__', '__weakref__', '_annotation', '_associate_gene', '_check_bounds', '_dissociate_gene', '_genes', '_get_rev_and_max_min_flux', '_gpr', '_id', '_lower_bound', '_metabolites', '_model', '_repr_html_', '_set_id_with_model', '_to_json', '_update_awareness', '_upper_bound', 'add_metabolites', 'aliases', 'annotation', 'boundary', 'bounds', 'build_reaction_from_string', 'build_reaction_string', 'check_mass_balance', 'compartment', 'compartments', 'copy', 'coverage', 'dblinks', 'delete', 'edits', 'flux', 'flux_expression', 'forward_variable', 'from_cobra_reaction', 'from_json', 'functional', 'gapfill_data', 'gene_count', 'gene_name_reaction_rule', 'gene_reaction_rule', 'genes', 'get_coefficient', 'get_coefficients', 'get_compartments', 'gpr', 'id', 'imported_gpr', 'knock_out', 'lower_bound', 'metabolites', 'model', 'modelReactionProteins', 'model_reaction_proteins', 'modelcompartment_ref', 'name', 'notes', 'numerical_attributes', 'objective_coefficient', 'probability', 'products', 'protons', 'reactants', 'reaction', 'reaction_ref', 'reduced_cost', 'remove_from_model', 'reverse_id', 'reverse_variable', 'reversibility', 'string_attributes', 'subsystem', 'subtract_metabolites', 'summary', 'update_genes_from_gpr', 'update_variable_bounds', 'upper_bound', 'x', 'y']\n",
      "[H+]\n",
      "cpd00067_e0 + cpd00075_e0 <=> cpd00067_c0 + cpd00075_c0\n"
     ]
    }
   ],
   "source": [
    "import re\n",
    "for count, rxn in enumerate(AP49.reactions):\n",
    "    print(rxn.reaction)\n",
    "    print(rxn.annotation)\n",
    "    print(dir(rxn))\n",
    "    for met in rxn.metabolites:\n",
    "        # print(dir(met))\n",
    "        print(met.smiles)\n",
    "        # ms_met = msdb.compounds.get_by_id(re.sub(\"(\\_\\w\\d)\", \"\", met.id))\n",
    "        # print(dir(ms_met))\n",
    "        # print(ms_met.inchi)\n",
    "        break\n",
    "    print(rxn.reaction)\n",
    "    if count > 1:\n",
    "        break"
   ]
  },
  {
   "cell_type": "code",
   "execution_count": null,
   "id": "22f78f6f-c43d-4cc7-b362-94815bb93483",
   "metadata": {},
   "outputs": [],
   "source": []
  }
 ],
 "metadata": {
  "kernelspec": {
   "display_name": "Python 3 (ipykernel)",
   "language": "python",
   "name": "python3"
  },
  "language_info": {
   "codemirror_mode": {
    "name": "ipython",
    "version": 3
   },
   "file_extension": ".py",
   "mimetype": "text/x-python",
   "name": "python",
   "nbconvert_exporter": "python",
   "pygments_lexer": "ipython3",
   "version": "3.9.12"
  }
 },
 "nbformat": 4,
 "nbformat_minor": 5
}
